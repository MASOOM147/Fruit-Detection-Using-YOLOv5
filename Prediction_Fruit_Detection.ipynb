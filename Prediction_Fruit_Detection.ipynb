{
  "nbformat": 4,
  "nbformat_minor": 0,
  "metadata": {
    "colab": {
      "provenance": []
    },
    "kernelspec": {
      "name": "python3",
      "display_name": "Python 3"
    },
    "language_info": {
      "name": "python"
    }
  },
  "cells": [
    {
      "cell_type": "code",
      "execution_count": null,
      "metadata": {
        "id": "dCzF7jQGw2ID"
      },
      "outputs": [],
      "source": []
    },
    {
      "cell_type": "markdown",
      "source": [
        "# Prediction_notebook"
      ],
      "metadata": {
        "id": "4LGfLbrqw6lh"
      }
    },
    {
      "cell_type": "code",
      "source": [
        "from IPython.display import Image as Display"
      ],
      "metadata": {
        "id": "2Wj3-n3ow-DO"
      },
      "execution_count": null,
      "outputs": []
    },
    {
      "cell_type": "code",
      "source": [
        "Display(filename='/content/drive/MyDrive/MASOOM_TSadiq/ML1/yolov5/runs/train/fruit_detection_yolov5/results.png', width=1080)"
      ],
      "metadata": {
        "id": "eGqyzZb_xFXb"
      },
      "execution_count": null,
      "outputs": []
    },
    {
      "cell_type": "code",
      "source": [
        "Display(filename='/content/drive/MyDrive/MASOOM_TSadiq/ML1/yolov5/runs/train/fruit_detection_yolov5/train_batch0.jpg', width=1000)\n"
      ],
      "metadata": {
        "id": "TPc5gs4syJsb"
      },
      "execution_count": null,
      "outputs": []
    },
    {
      "cell_type": "code",
      "source": [
        "Display(filename='/content/drive/MyDrive/MASOOM_TSadiq/ML1/yolov5/runs/train/fruit_detection_yolov5/train_batch1.jpg', width=1000)"
      ],
      "metadata": {
        "id": "PA5iq2G4yKYQ"
      },
      "execution_count": null,
      "outputs": []
    },
    {
      "cell_type": "code",
      "source": [
        "\n",
        "Display(filename='/content/drive/MyDrive/MASOOM_TSadiq/ML1/yolov5/runs/train/fruit_detection_yolov5/train_batch2.jpg', width=1000)"
      ],
      "metadata": {
        "id": "QOxhONIByOpt"
      },
      "execution_count": null,
      "outputs": []
    },
    {
      "cell_type": "code",
      "source": [],
      "metadata": {
        "id": "wVwTnI9ayRdp"
      },
      "execution_count": null,
      "outputs": []
    },
    {
      "cell_type": "markdown",
      "source": [
        "# Predictiion Script"
      ],
      "metadata": {
        "id": "KJdJ4pTK2Wil"
      }
    },
    {
      "cell_type": "code",
      "source": [
        "import torch\n",
        "from pathlib import Path\n",
        "from PIL import Image\n",
        "import matplotlib.pyplot as plt\n",
        "\n",
        "# Set the path to the YOLOv5 repository (change this to your path)\n",
        "yolov5_dir = \"/content/drive/MyDrive/MASOOM_TSadiq/ML1/yolov5\"\n",
        "\n",
        "# Load the trained YOLOv5 model\n",
        "weights_path = yolov5_dir + \"/runs/train/fruit_detection_yolov5/weights/best.pt\"\n",
        "model = torch.hub.load(yolov5_dir, \"custom\", path_or_model=weights_path)\n",
        "\n",
        "# Set the path to the image you want to make predictions on\n",
        "image_path = \"/path/to/your/image.jpg\"\n",
        "\n",
        "# Load and preprocess the image\n",
        "img = Image.open(image_path)\n",
        "results = model(img)\n",
        "\n",
        "# Display the image with predicted bounding boxes\n",
        "results.show()\n",
        "\n",
        "# Access the detected labels and bounding boxes\n",
        "labels, boxes, scores = results.xyxy[0][:, -1].cpu().numpy(), results.xyxy[0][:, :-1].cpu().numpy(), results.xyxy[0][:, -2].cpu().numpy()\n",
        "\n",
        "# Print the detected labels, boxes, and scores\n",
        "print(\"Detected Labels:\", labels)\n",
        "print(\"Bounding Boxes (xmin, ymin, xmax, ymax):\\n\", boxes)\n",
        "print(\"Confidence Scores:\", scores)\n",
        "\n",
        "# You can then use this information for further processing or analysis.\n"
      ],
      "metadata": {
        "id": "r8dSnfPO2bC7"
      },
      "execution_count": null,
      "outputs": []
    }
  ]
}